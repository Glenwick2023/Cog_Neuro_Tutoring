import os

image_folder = "./images"
output_md = "./images.md"

with open(output_md, "w") as f:
    for file in os.listdir(image_folder):
        if file.lower().endswith(('.png', '.jpg', '.jpeg', '.gif', '.bmp')):
            img_path = os.path.join(image_folder, file)
            f.write(f'<figure>\n')
            f.write(f'  <img src="{img_path}" alt="{file}" style="width:300px;"/>\n')
            f.write(f'  <figcaption>{file}</figcaption>\n')
            f.write(f'</figure>\n\n')
